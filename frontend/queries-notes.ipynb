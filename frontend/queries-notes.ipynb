{
    "metadata": {
        "kernelspec": {
            "name": "SQL",
            "display_name": "SQL",
            "language": "sql"
        },
        "language_info": {
            "name": "sql",
            "version": ""
        }
    },
    "nbformat_minor": 2,
    "nbformat": 4,
    "cells": [
        {
            "cell_type": "code",
            "source": "use prj_ENRON_FEW_PSTs;",
            "metadata": {},
            "outputs": [
                {
                    "output_type": "display_data",
                    "data": {
                        "text/html": "Commands completed successfully."
                    },
                    "metadata": {}
                },
                {
                    "output_type": "display_data",
                    "data": {
                        "text/html": "Total execution time: 00:00:00.048"
                    },
                    "metadata": {}
                }
            ],
            "execution_count": 1
        },
        {
            "cell_type": "code",
            "source": "-- Table of First 10 Email Addresses\r\nselect top 10 * from tbl_ex_EmailAddresses;",
            "metadata": {},
            "outputs": [
                {
                    "output_type": "display_data",
                    "data": {
                        "text/html": "(10 rows affected)"
                    },
                    "metadata": {}
                },
                {
                    "output_type": "display_data",
                    "data": {
                        "text/html": "Total execution time: 00:00:00.009"
                    },
                    "metadata": {}
                },
                {
                    "output_type": "execute_result",
                    "metadata": {},
                    "execution_count": 4,
                    "data": {
                        "application/vnd.dataresource+json": {
                            "schema": {
                                "fields": [
                                    {
                                        "name": "EmailAddressID"
                                    },
                                    {
                                        "name": "CustodianId"
                                    },
                                    {
                                        "name": "MediaId"
                                    },
                                    {
                                        "name": "FileID"
                                    },
                                    {
                                        "name": "SenderID"
                                    },
                                    {
                                        "name": "RecepientID"
                                    },
                                    {
                                        "name": "Category"
                                    },
                                    {
                                        "name": "GroupDate"
                                    },
                                    {
                                        "name": "oldSenderId"
                                    },
                                    {
                                        "name": "oldRecepientId"
                                    }
                                ]
                            },
                            "data": [
                                {
                                    "0": "16871",
                                    "1": "1",
                                    "2": "1",
                                    "3": "2",
                                    "4": "3",
                                    "5": "3",
                                    "6": "2",
                                    "7": "2009-05-12 01:42:31.000",
                                    "8": "3",
                                    "9": "3"
                                },
                                {
                                    "0": "9461",
                                    "1": "1",
                                    "2": "1",
                                    "3": "3",
                                    "4": "3",
                                    "5": "3",
                                    "6": "2",
                                    "7": "1980-01-01 08:00:00.000",
                                    "8": "3",
                                    "9": "3"
                                },
                                {
                                    "0": "6384",
                                    "1": "1",
                                    "2": "1",
                                    "3": "4",
                                    "4": "3",
                                    "5": "3",
                                    "6": "2",
                                    "7": "1980-01-01 08:00:00.000",
                                    "8": "3",
                                    "9": "3"
                                },
                                {
                                    "0": "244",
                                    "1": "1",
                                    "2": "1",
                                    "3": "5",
                                    "4": "3",
                                    "5": "3",
                                    "6": "2",
                                    "7": "2000-01-03 16:00:00.000",
                                    "8": "3",
                                    "9": "3"
                                },
                                {
                                    "0": "10601",
                                    "1": "1",
                                    "2": "1",
                                    "3": "6",
                                    "4": "3",
                                    "5": "3",
                                    "6": "2",
                                    "7": "1980-01-01 08:00:00.000",
                                    "8": "3",
                                    "9": "3"
                                },
                                {
                                    "0": "5078",
                                    "1": "1",
                                    "2": "1",
                                    "3": "7",
                                    "4": "112",
                                    "5": "1721",
                                    "6": "2",
                                    "7": "2000-01-11 20:40:00.000",
                                    "8": "112",
                                    "9": "1721"
                                },
                                {
                                    "0": "347",
                                    "1": "1",
                                    "2": "1",
                                    "3": "8",
                                    "4": "1721",
                                    "5": "1721",
                                    "6": "3",
                                    "7": "2000-01-04 15:24:00.000",
                                    "8": "1721",
                                    "9": "1721"
                                },
                                {
                                    "0": "13109",
                                    "1": "1",
                                    "2": "1",
                                    "3": "8",
                                    "4": "1721",
                                    "5": "1005",
                                    "6": "2",
                                    "7": "2000-01-04 15:24:00.000",
                                    "8": "1721",
                                    "9": "1005"
                                },
                                {
                                    "0": "14346",
                                    "1": "1",
                                    "2": "1",
                                    "3": "8",
                                    "4": "1721",
                                    "5": "615",
                                    "6": "3",
                                    "7": "2000-01-04 15:24:00.000",
                                    "8": "1721",
                                    "9": "615"
                                },
                                {
                                    "0": "5993",
                                    "1": "1",
                                    "2": "1",
                                    "3": "9",
                                    "4": "3",
                                    "5": "3",
                                    "6": "2",
                                    "7": "1980-01-01 08:00:00.000",
                                    "8": "3",
                                    "9": "3"
                                }
                            ]
                        },
                        "text/html": "<table><tr><th>EmailAddressID</th><th>CustodianId</th><th>MediaId</th><th>FileID</th><th>SenderID</th><th>RecepientID</th><th>Category</th><th>GroupDate</th><th>oldSenderId</th><th>oldRecepientId</th></tr><tr><td>16871</td><td>1</td><td>1</td><td>2</td><td>3</td><td>3</td><td>2</td><td>2009-05-12 01:42:31.000</td><td>3</td><td>3</td></tr><tr><td>9461</td><td>1</td><td>1</td><td>3</td><td>3</td><td>3</td><td>2</td><td>1980-01-01 08:00:00.000</td><td>3</td><td>3</td></tr><tr><td>6384</td><td>1</td><td>1</td><td>4</td><td>3</td><td>3</td><td>2</td><td>1980-01-01 08:00:00.000</td><td>3</td><td>3</td></tr><tr><td>244</td><td>1</td><td>1</td><td>5</td><td>3</td><td>3</td><td>2</td><td>2000-01-03 16:00:00.000</td><td>3</td><td>3</td></tr><tr><td>10601</td><td>1</td><td>1</td><td>6</td><td>3</td><td>3</td><td>2</td><td>1980-01-01 08:00:00.000</td><td>3</td><td>3</td></tr><tr><td>5078</td><td>1</td><td>1</td><td>7</td><td>112</td><td>1721</td><td>2</td><td>2000-01-11 20:40:00.000</td><td>112</td><td>1721</td></tr><tr><td>347</td><td>1</td><td>1</td><td>8</td><td>1721</td><td>1721</td><td>3</td><td>2000-01-04 15:24:00.000</td><td>1721</td><td>1721</td></tr><tr><td>13109</td><td>1</td><td>1</td><td>8</td><td>1721</td><td>1005</td><td>2</td><td>2000-01-04 15:24:00.000</td><td>1721</td><td>1005</td></tr><tr><td>14346</td><td>1</td><td>1</td><td>8</td><td>1721</td><td>615</td><td>3</td><td>2000-01-04 15:24:00.000</td><td>1721</td><td>615</td></tr><tr><td>5993</td><td>1</td><td>1</td><td>9</td><td>3</td><td>3</td><td>2</td><td>1980-01-01 08:00:00.000</td><td>3</td><td>3</td></tr></table>"
                    }
                }
            ],
            "execution_count": 4
        }
    ]
}